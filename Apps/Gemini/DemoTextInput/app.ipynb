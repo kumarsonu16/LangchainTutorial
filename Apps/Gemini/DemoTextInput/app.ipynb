{
 "cells": [
  {
   "cell_type": "code",
   "execution_count": 1,
   "metadata": {},
   "outputs": [
    {
     "name": "stderr",
     "output_type": "stream",
     "text": [
      "c:\\Users\\s.kumar\\Documents\\python\\Krish-python\\LangchainTutorial\\Apps\\Gemini\\DemoTextInput\\venev\\Lib\\site-packages\\tqdm\\auto.py:21: TqdmWarning: IProgress not found. Please update jupyter and ipywidgets. See https://ipywidgets.readthedocs.io/en/stable/user_install.html\n",
      "  from .autonotebook import tqdm as notebook_tqdm\n"
     ]
    }
   ],
   "source": [
    "import pathlib\n",
    "import textwrap\n",
    "\n",
    "import google.generativeai as genai\n",
    "\n",
    "from IPython.display import display\n",
    "from IPython.display import Markdown\n",
    "\n",
    "def to_markdown(text):\n",
    "  text = text.replace('.', '*')\n",
    "  return Markdown(textwrap.indent(text, '>', predicate=lambda _ : True))"
   ]
  },
  {
   "cell_type": "code",
   "execution_count": 2,
   "metadata": {},
   "outputs": [],
   "source": [
    "import os"
   ]
  },
  {
   "cell_type": "code",
   "execution_count": 3,
   "metadata": {},
   "outputs": [
    {
     "data": {
      "text/plain": [
       "True"
      ]
     },
     "execution_count": 3,
     "metadata": {},
     "output_type": "execute_result"
    }
   ],
   "source": [
    "from dotenv import load_dotenv\n",
    "load_dotenv()"
   ]
  },
  {
   "cell_type": "code",
   "execution_count": 4,
   "metadata": {},
   "outputs": [],
   "source": [
    "genai.configure(api_key=os.environ['GOOGLE_API_KEY'])"
   ]
  },
  {
   "cell_type": "code",
   "execution_count": 5,
   "metadata": {},
   "outputs": [
    {
     "name": "stdout",
     "output_type": "stream",
     "text": [
      "models/gemini-1.0-pro-latest\n",
      "models/gemini-1.0-pro\n",
      "models/gemini-pro\n",
      "models/gemini-1.0-pro-001\n",
      "models/gemini-1.0-pro-vision-latest\n",
      "models/gemini-pro-vision\n",
      "models/gemini-1.5-pro-latest\n",
      "models/gemini-1.5-pro-001\n",
      "models/gemini-1.5-pro-002\n",
      "models/gemini-1.5-pro\n",
      "models/gemini-1.5-pro-exp-0801\n",
      "models/gemini-1.5-pro-exp-0827\n",
      "models/gemini-1.5-flash-latest\n",
      "models/gemini-1.5-flash-001\n",
      "models/gemini-1.5-flash-001-tuning\n",
      "models/gemini-1.5-flash\n",
      "models/gemini-1.5-flash-exp-0827\n",
      "models/gemini-1.5-flash-8b-exp-0827\n",
      "models/gemini-1.5-flash-8b-exp-0924\n",
      "models/gemini-1.5-flash-002\n"
     ]
    }
   ],
   "source": [
    "for m in genai.list_models():\n",
    "  if 'generateContent' in m.supported_generation_methods:\n",
    "    print(m.name)"
   ]
  },
  {
   "cell_type": "code",
   "execution_count": 6,
   "metadata": {},
   "outputs": [],
   "source": [
    "model = genai.GenerativeModel('gemini-pro')"
   ]
  },
  {
   "cell_type": "markdown",
   "metadata": {},
   "source": [
    "The generate_content method can handle a wide variety of use cases, including multi-turn chat and multimodal input, depending on what the underlying model supports. The available models only support text and images as input, and text as output.\n",
    "\n",
    "In the simplest case, you can pass a prompt string to the GenerativeModel.generate_content method:"
   ]
  },
  {
   "cell_type": "code",
   "execution_count": 7,
   "metadata": {},
   "outputs": [
    {
     "name": "stdout",
     "output_type": "stream",
     "text": [
      "CPU times: total: 0 ns\n",
      "Wall time: 5.72 s\n"
     ]
    }
   ],
   "source": [
    "%%time\n",
    "\n",
    "response = model.generate_content(\"What is the meaning of life?\")"
   ]
  },
  {
   "cell_type": "code",
   "execution_count": 8,
   "metadata": {},
   "outputs": [
    {
     "data": {
      "text/markdown": [
       ">The meaning of life is a deep philosophical question that has been contemplated by humans for centuries* There is no universally accepted answer, and different people may have different beliefs about what gives their life meaning* Some common themes that emerge when discussing the meaning of life include:\n",
       ">\n",
       ">* **Purpose:** Many people believe that life has a purpose, whether it is to fulfill a specific goal, make a difference in the world, or simply experience life to the fullest*\n",
       ">* **Relationships:** For many people, relationships with family, friends, and loved ones are a central part of what gives life meaning*\n",
       ">* **Values:** People's values, such as compassion, integrity, or creativity, can shape their understanding of what is meaningful and give them direction in life*\n",
       ">* **Achievements:** Some people find meaning in achieving goals, overcoming challenges, or making a mark on the world*\n",
       ">* **Experiences:** Others believe that life is about experiencing as much as possible, whether it's travel, adventure, or new challenges*\n",
       ">* **Self-discovery and growth:** Many people find meaning in the journey of self-discovery, learning, and growing as a person*\n",
       ">\n",
       ">Ultimately, the meaning of life is a personal interpretation that each individual must determine for themselves* There is no right or wrong answer, and what is meaningful to one person may not be meaningful to another* The process of exploring and reflecting on what gives life meaning can be an ongoing journey that brings greater understanding and fulfillment*"
      ],
      "text/plain": [
       "<IPython.core.display.Markdown object>"
      ]
     },
     "execution_count": 8,
     "metadata": {},
     "output_type": "execute_result"
    }
   ],
   "source": [
    "to_markdown(response.text)"
   ]
  },
  {
   "cell_type": "code",
   "execution_count": 9,
   "metadata": {},
   "outputs": [
    {
     "data": {
      "text/plain": []
     },
     "execution_count": 9,
     "metadata": {},
     "output_type": "execute_result"
    }
   ],
   "source": [
    "response.prompt_feedback"
   ]
  },
  {
   "cell_type": "code",
   "execution_count": 10,
   "metadata": {},
   "outputs": [
    {
     "data": {
      "text/plain": [
       "[content {\n",
       "  parts {\n",
       "    text: \"The meaning of life is a deep philosophical question that has been contemplated by humans for centuries. There is no universally accepted answer, and different people may have different beliefs about what gives their life meaning. Some common themes that emerge when discussing the meaning of life include:\\n\\n* **Purpose:** Many people believe that life has a purpose, whether it is to fulfill a specific goal, make a difference in the world, or simply experience life to the fullest.\\n* **Relationships:** For many people, relationships with family, friends, and loved ones are a central part of what gives life meaning.\\n* **Values:** People\\'s values, such as compassion, integrity, or creativity, can shape their understanding of what is meaningful and give them direction in life.\\n* **Achievements:** Some people find meaning in achieving goals, overcoming challenges, or making a mark on the world.\\n* **Experiences:** Others believe that life is about experiencing as much as possible, whether it\\'s travel, adventure, or new challenges.\\n* **Self-discovery and growth:** Many people find meaning in the journey of self-discovery, learning, and growing as a person.\\n\\nUltimately, the meaning of life is a personal interpretation that each individual must determine for themselves. There is no right or wrong answer, and what is meaningful to one person may not be meaningful to another. The process of exploring and reflecting on what gives life meaning can be an ongoing journey that brings greater understanding and fulfillment.\"\n",
       "  }\n",
       "  role: \"model\"\n",
       "}\n",
       "finish_reason: STOP\n",
       "index: 0\n",
       "safety_ratings {\n",
       "  category: HARM_CATEGORY_SEXUALLY_EXPLICIT\n",
       "  probability: NEGLIGIBLE\n",
       "}\n",
       "safety_ratings {\n",
       "  category: HARM_CATEGORY_HATE_SPEECH\n",
       "  probability: NEGLIGIBLE\n",
       "}\n",
       "safety_ratings {\n",
       "  category: HARM_CATEGORY_HARASSMENT\n",
       "  probability: NEGLIGIBLE\n",
       "}\n",
       "safety_ratings {\n",
       "  category: HARM_CATEGORY_DANGEROUS_CONTENT\n",
       "  probability: NEGLIGIBLE\n",
       "}\n",
       "]"
      ]
     },
     "execution_count": 10,
     "metadata": {},
     "output_type": "execute_result"
    }
   ],
   "source": [
    "response.candidates"
   ]
  },
  {
   "cell_type": "code",
   "execution_count": 11,
   "metadata": {},
   "outputs": [],
   "source": [
    "# stream the response as it is being generated and the will return chunks of the response as soon as they are generated\n",
    "\n",
    "response = model.generate_content(\"What is the meaning of life?\",stream=True)"
   ]
  },
  {
   "cell_type": "code",
   "execution_count": 12,
   "metadata": {},
   "outputs": [
    {
     "name": "stdout",
     "output_type": "stream",
     "text": [
      "The meaning of life is a deeply philosophical question that has been pondered by humans for\n",
      "________________________________________________________________________________\n",
      " centuries. There is no one definitive answer, and different people may have different perspectives on what gives their life meaning. However, some common themes that emerge from various\n",
      "________________________________________________________________________________\n",
      " philosophical and spiritual traditions include:\n",
      "\n",
      "**Purpose and Significance:** Many people find meaning in their lives by pursuing a purpose or mission that they believe is fulfilling and makes a positive contribution to the world. This could involve pursuing a career, raising a family, volunteering, or working towards a social or environmental cause. When individuals can\n",
      "________________________________________________________________________________\n",
      " align their actions with their values and feel like they are making a difference, it can provide a sense of significance and meaning.\n",
      "\n",
      "**Relationships and Connections:** Human relationships are a significant source of meaning for many people. Building strong and loving connections with family, friends, and community members can provide a sense of belonging, support, and purpose. Sharing experiences, offering support, and caring for others can enrich our lives and give them greater depth and meaning.\n",
      "\n",
      "**Personal Growth and Development:** The pursuit of personal growth and self-improvement can also contribute to a meaningful life. By challenging ourselves, learning new skills, and expanding our knowledge and perspectives\n",
      "________________________________________________________________________________\n",
      ", we can continue to grow and evolve as individuals. This process of self-discovery and transformation can bring a sense of fulfillment and accomplishment.\n",
      "\n",
      "**Contribution and Legacy:** Some people find meaning in their lives by leaving a lasting legacy or making a positive impact on others. This could involve creating works of art, writing books, volunteering in the community, or mentoring young people. When individuals can contribute their unique talents and abilities to the world, it can create a sense of purpose and leave a meaningful mark on society.\n",
      "\n",
      "**Experiences and Moments:** Life is often made up of a collection of experiences and moments, both big and small. While some experiences may be challenging, others can bring immense joy, gratitude, and fulfillment. Paying attention to the present moment, savoring our experiences, and being grateful for what we have can help us appreciate the beauty and richness of life.\n",
      "\n",
      "**Transcendence and Spirituality:** For some people, meaning in life may be found through spiritual practices or beliefs. This could involve connecting with a higher power, practicing mindfulness or meditation, or exploring the nature of consciousness. Spiritual experiences can provide a sense of peace, purpose, and connection to something larger than oneself.\n",
      "\n",
      "Ultimately, the meaning of life is a personal journey that each individual must discover\n",
      "________________________________________________________________________________\n",
      " for themselves. There is no right or wrong answer, and what gives one person meaning may not resonate with another. By reflecting on our values, exploring our passions, and engaging with the world around us, we can strive to live fulfilling lives that are rich in meaning and purpose.\n",
      "________________________________________________________________________________\n"
     ]
    }
   ],
   "source": [
    "for chunk in response:\n",
    "  print(chunk.text)\n",
    "  print(\"_\"*80)"
   ]
  },
  {
   "cell_type": "code",
   "execution_count": 13,
   "metadata": {},
   "outputs": [],
   "source": [
    "from PIL import Image\n",
    "\n",
    "img = Image.open('msd.jpeg')\n",
    "img.show()"
   ]
  },
  {
   "cell_type": "code",
   "execution_count": 14,
   "metadata": {},
   "outputs": [],
   "source": [
    "model = genai.GenerativeModel('gemini-1.5-flash')"
   ]
  },
  {
   "cell_type": "code",
   "execution_count": 19,
   "metadata": {},
   "outputs": [
    {
     "name": "stdout",
     "output_type": "stream",
     "text": [
      "This is a picture of Mahendra Singh Dhoni, a former Indian cricketer. He is considered one of the greatest captains of all time and is known for his calm demeanor and ability to lead under pressure. He is also a very successful wicketkeeper-batsman.\n"
     ]
    }
   ],
   "source": [
    "try:\n",
    "    response = model.generate_content(img)\n",
    "    print(response.text)\n",
    "except Exception as e:\n",
    "    print(f\"Error generating content: {e}\")"
   ]
  },
  {
   "cell_type": "code",
   "execution_count": 21,
   "metadata": {},
   "outputs": [],
   "source": [
    "img = Image.open('cat.jpeg')"
   ]
  },
  {
   "cell_type": "code",
   "execution_count": 22,
   "metadata": {},
   "outputs": [
    {
     "data": {
      "text/markdown": [
       ">This is a very cute white kitten with blue eyes* It is lying on the floor in front of a window and a potted plant* The kitten looks curious and alert* It is a beautiful animal*"
      ],
      "text/plain": [
       "<IPython.core.display.Markdown object>"
      ]
     },
     "execution_count": 22,
     "metadata": {},
     "output_type": "execute_result"
    }
   ],
   "source": [
    "response = model.generate_content(img)\n",
    "to_markdown(response.text)"
   ]
  },
  {
   "cell_type": "code",
   "execution_count": 23,
   "metadata": {},
   "outputs": [],
   "source": [
    "img = Image.open('cat2.jpeg')"
   ]
  },
  {
   "cell_type": "code",
   "execution_count": 24,
   "metadata": {},
   "outputs": [
    {
     "data": {
      "text/markdown": [
       ">The image shows a cute orange cat playing with a colorful toy* The cat appears to be enjoying itself, as it is batting at the toy with its paw* This image is likely to evoke feelings of happiness and amusement in viewers* \n"
      ],
      "text/plain": [
       "<IPython.core.display.Markdown object>"
      ]
     },
     "execution_count": 24,
     "metadata": {},
     "output_type": "execute_result"
    }
   ],
   "source": [
    "response = model.generate_content(img)\n",
    "to_markdown(response.text)"
   ]
  },
  {
   "cell_type": "code",
   "execution_count": 25,
   "metadata": {},
   "outputs": [],
   "source": [
    "response = model.generate_content([\"Write a short, engaging blog post based on this picture\", img], stream=True )\n",
    "response.resolve()"
   ]
  },
  {
   "cell_type": "code",
   "execution_count": 27,
   "metadata": {},
   "outputs": [
    {
     "data": {
      "text/markdown": [
       ">## The Art of the Feathery Pounce \n",
       ">\n",
       ">This little ginger fluffball is a master of the feathery pounce*  With laser focus and a twitchy paw, they're ready to strike at any moment* The multi-colored toy, a tempting dance of feathers and bells, has their full attention* It's a classic cat vs* toy battle, and we're all rooting for the adorable ginger warrior! \n",
       ">\n",
       ">Do you have a cat who loves feathery toys?  Share your favorite kitty toy moments in the comments below! \n"
      ],
      "text/plain": [
       "<IPython.core.display.Markdown object>"
      ]
     },
     "execution_count": 27,
     "metadata": {},
     "output_type": "execute_result"
    }
   ],
   "source": [
    "to_markdown(response.text)"
   ]
  }
 ],
 "metadata": {
  "kernelspec": {
   "display_name": "venev",
   "language": "python",
   "name": "python3"
  },
  "language_info": {
   "codemirror_mode": {
    "name": "ipython",
    "version": 3
   },
   "file_extension": ".py",
   "mimetype": "text/x-python",
   "name": "python",
   "nbconvert_exporter": "python",
   "pygments_lexer": "ipython3",
   "version": "3.11.7"
  }
 },
 "nbformat": 4,
 "nbformat_minor": 2
}
